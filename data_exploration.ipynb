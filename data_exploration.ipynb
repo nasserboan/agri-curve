{
 "cells": [
  {
   "cell_type": "code",
   "execution_count": 1,
   "id": "0f1032f9",
   "metadata": {},
   "outputs": [],
   "source": [
    "import pandas as pd"
   ]
  },
  {
   "cell_type": "code",
   "execution_count": 2,
   "id": "d0b5ac44",
   "metadata": {},
   "outputs": [
    {
     "data": {
      "text/html": [
       "<div>\n",
       "<style scoped>\n",
       "    .dataframe tbody tr th:only-of-type {\n",
       "        vertical-align: middle;\n",
       "    }\n",
       "\n",
       "    .dataframe tbody tr th {\n",
       "        vertical-align: top;\n",
       "    }\n",
       "\n",
       "    .dataframe thead th {\n",
       "        text-align: right;\n",
       "    }\n",
       "</style>\n",
       "<table border=\"1\" class=\"dataframe\">\n",
       "  <thead>\n",
       "    <tr style=\"text-align: right;\">\n",
       "      <th></th>\n",
       "      <th>operation_date</th>\n",
       "      <th>origin_municipality</th>\n",
       "      <th>origin_state</th>\n",
       "      <th>origin_lat</th>\n",
       "      <th>origin_lon</th>\n",
       "      <th>destination_port</th>\n",
       "      <th>destination_state</th>\n",
       "      <th>destination_lat</th>\n",
       "      <th>destination_lon</th>\n",
       "      <th>commodity</th>\n",
       "      <th>tonnage</th>\n",
       "      <th>distance_km</th>\n",
       "      <th>total_freight_value</th>\n",
       "      <th>value_per_ton</th>\n",
       "      <th>commodity_reference_price</th>\n",
       "      <th>month</th>\n",
       "      <th>year</th>\n",
       "      <th>seasonality_multiplier</th>\n",
       "      <th>route</th>\n",
       "    </tr>\n",
       "  </thead>\n",
       "  <tbody>\n",
       "    <tr>\n",
       "      <th>0</th>\n",
       "      <td>2023-01-01</td>\n",
       "      <td>Cascavel</td>\n",
       "      <td>PR</td>\n",
       "      <td>-24.955556</td>\n",
       "      <td>-53.455556</td>\n",
       "      <td>Vitória</td>\n",
       "      <td>ES</td>\n",
       "      <td>-20.315556</td>\n",
       "      <td>-40.312222</td>\n",
       "      <td>Soy</td>\n",
       "      <td>29.69</td>\n",
       "      <td>1547.0</td>\n",
       "      <td>11183.56</td>\n",
       "      <td>376.69</td>\n",
       "      <td>1465.95</td>\n",
       "      <td>1</td>\n",
       "      <td>2023</td>\n",
       "      <td>0.747</td>\n",
       "      <td>Cascavel_PR-Vitória_ES</td>\n",
       "    </tr>\n",
       "  </tbody>\n",
       "</table>\n",
       "</div>"
      ],
      "text/plain": [
       "  operation_date origin_municipality origin_state  origin_lat  origin_lon  \\\n",
       "0     2023-01-01            Cascavel           PR  -24.955556  -53.455556   \n",
       "\n",
       "  destination_port destination_state  destination_lat  destination_lon  \\\n",
       "0          Vitória                ES       -20.315556       -40.312222   \n",
       "\n",
       "  commodity  tonnage  distance_km  total_freight_value  value_per_ton  \\\n",
       "0       Soy    29.69       1547.0             11183.56         376.69   \n",
       "\n",
       "   commodity_reference_price  month  year  seasonality_multiplier  \\\n",
       "0                    1465.95      1  2023                   0.747   \n",
       "\n",
       "                    route  \n",
       "0  Cascavel_PR-Vitória_ES  "
      ]
     },
     "execution_count": 2,
     "metadata": {},
     "output_type": "execute_result"
    }
   ],
   "source": [
    "df = pd.read_csv('data/raw/logistics_transport_data.csv')\n",
    "df.head(1)"
   ]
  },
  {
   "cell_type": "code",
   "execution_count": 3,
   "id": "bc7a5571",
   "metadata": {},
   "outputs": [],
   "source": [
    "from src.nodes.preprocessing import DateFilter"
   ]
  },
  {
   "cell_type": "code",
   "execution_count": null,
   "id": "3107a9a1",
   "metadata": {},
   "outputs": [
    {
     "name": "stderr",
     "output_type": "stream",
     "text": [
      "\u001b[32m2025-09-30 12:16:51.425\u001b[0m | \u001b[33m\u001b[1mWARNING \u001b[0m | \u001b[36msrc.nodes.preprocessing\u001b[0m:\u001b[36m_check_date_column_type\u001b[0m:\u001b[36m50\u001b[0m - \u001b[33m\u001b[1mDate column operation_date is not a datetime column, it will be converted to datetime\u001b[0m\n"
     ]
    },
    {
     "data": {
      "text/html": [
       "<div>\n",
       "<style scoped>\n",
       "    .dataframe tbody tr th:only-of-type {\n",
       "        vertical-align: middle;\n",
       "    }\n",
       "\n",
       "    .dataframe tbody tr th {\n",
       "        vertical-align: top;\n",
       "    }\n",
       "\n",
       "    .dataframe thead th {\n",
       "        text-align: right;\n",
       "    }\n",
       "</style>\n",
       "<table border=\"1\" class=\"dataframe\">\n",
       "  <thead>\n",
       "    <tr style=\"text-align: right;\">\n",
       "      <th></th>\n",
       "      <th>operation_date</th>\n",
       "      <th>origin_municipality</th>\n",
       "      <th>origin_state</th>\n",
       "      <th>origin_lat</th>\n",
       "      <th>origin_lon</th>\n",
       "      <th>destination_port</th>\n",
       "      <th>destination_state</th>\n",
       "      <th>destination_lat</th>\n",
       "      <th>destination_lon</th>\n",
       "      <th>commodity</th>\n",
       "      <th>tonnage</th>\n",
       "      <th>distance_km</th>\n",
       "      <th>total_freight_value</th>\n",
       "      <th>value_per_ton</th>\n",
       "      <th>commodity_reference_price</th>\n",
       "      <th>month</th>\n",
       "      <th>year</th>\n",
       "      <th>seasonality_multiplier</th>\n",
       "      <th>route</th>\n",
       "    </tr>\n",
       "  </thead>\n",
       "  <tbody>\n",
       "  </tbody>\n",
       "</table>\n",
       "</div>"
      ],
      "text/plain": [
       "Empty DataFrame\n",
       "Columns: [operation_date, origin_municipality, origin_state, origin_lat, origin_lon, destination_port, destination_state, destination_lat, destination_lon, commodity, tonnage, distance_km, total_freight_value, value_per_ton, commodity_reference_price, month, year, seasonality_multiplier, route]\n",
       "Index: []"
      ]
     },
     "execution_count": 5,
     "metadata": {},
     "output_type": "execute_result"
    }
   ],
   "source": [
    "filter = DateFilter(\n",
    "    date_column='operation_date',\n",
    "    date_str_format='%Y-%m-%d',\n",
    "    start_date='2024-01-01',\n",
    "    end_date='2024-12-31'\n",
    ")\n",
    "\n",
    "filter.fit(df)\n",
    "filter.transform(df)\n"
   ]
  },
  {
   "cell_type": "code",
   "execution_count": null,
   "id": "e33f6541",
   "metadata": {},
   "outputs": [],
   "source": []
  },
  {
   "cell_type": "code",
   "execution_count": 55,
   "id": "342d5591",
   "metadata": {},
   "outputs": [
    {
     "data": {
      "text/plain": [
       "29.689028113302715"
      ]
     },
     "execution_count": 55,
     "metadata": {},
     "output_type": "execute_result"
    }
   ],
   "source": [
    "11183.56 / 376.69"
   ]
  },
  {
   "cell_type": "code",
   "execution_count": null,
   "id": "aca6802f",
   "metadata": {},
   "outputs": [],
   "source": []
  }
 ],
 "metadata": {
  "kernelspec": {
   "display_name": ".venv",
   "language": "python",
   "name": "python3"
  },
  "language_info": {
   "codemirror_mode": {
    "name": "ipython",
    "version": 3
   },
   "file_extension": ".py",
   "mimetype": "text/x-python",
   "name": "python",
   "nbconvert_exporter": "python",
   "pygments_lexer": "ipython3",
   "version": "3.12.7"
  }
 },
 "nbformat": 4,
 "nbformat_minor": 5
}
